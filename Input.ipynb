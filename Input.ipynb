{
  "nbformat": 4,
  "nbformat_minor": 0,
  "metadata": {
    "colab": {
      "provenance": []
    },
    "kernelspec": {
      "name": "python3",
      "display_name": "Python 3"
    },
    "language_info": {
      "name": "python"
    }
  },
  "cells": [
    {
      "cell_type": "code",
      "execution_count": 74,
      "metadata": {
        "colab": {
          "base_uri": "https://localhost:8080/"
        },
        "id": "eF7yAKvSlCry",
        "outputId": "fb06f1b3-53dd-4715-b432-43b163e4599b"
      },
      "outputs": [
        {
          "output_type": "stream",
          "name": "stdout",
          "text": [
            "Drive already mounted at /content/drive; to attempt to forcibly remount, call drive.mount(\"/content/drive\", force_remount=True).\n",
            "/content/drive/My Drive/Colab Notebooks/FinalCapstone\n"
          ]
        }
      ],
      "source": [
        "from google.colab import drive\n",
        "from google.colab import files\n",
        "drive.mount('/content/drive')\n",
        "%cd /content/drive/My Drive/Colab Notebooks/FinalCapstone"
      ]
    },
    {
      "cell_type": "code",
      "source": [
        "import pandas as pd\n",
        "df = pd.read_excel('data.xlsx', header=None)"
      ],
      "metadata": {
        "id": "0-cV30XalKNj"
      },
      "execution_count": 75,
      "outputs": []
    },
    {
      "cell_type": "markdown",
      "source": [
        "\n",
        "\n",
        "---\n",
        "\n",
        "\n",
        "# Input Generation"
      ],
      "metadata": {
        "id": "AN_fE-5Et-G1"
      }
    },
    {
      "cell_type": "code",
      "source": [
        "df1=df[0:6]\n",
        "df2=df[6:12]\n",
        "df3=df[12:18]"
      ],
      "metadata": {
        "id": "WqfYopYmp9eq"
      },
      "execution_count": 76,
      "outputs": []
    },
    {
      "cell_type": "code",
      "source": [
        "#Year 1\n",
        "Y1names = df1.iloc[:,0].tolist()\n",
        "\n",
        "row1 = df1.iloc[0]\n",
        "row2 = df1.iloc[1]\n",
        "row3 = df1.iloc[2]\n",
        "row4 = df1.iloc[3]\n",
        "row5 = df1.iloc[4]\n",
        "row6 = df1.iloc[5]\n",
        "\n",
        "Y1vac1 = [row1[1], row1[2], row1[3]]\n",
        "Y1vac2 = [row2[1], row2[2], row2[3]]\n",
        "Y1vac3 = [row3[1], row3[2], row3[3]]\n",
        "Y1vac4 = [row4[1], row4[2], row4[3]]\n",
        "Y1vac5 = [row5[1], row5[2], row5[3]]\n",
        "Y1vac6 = [row6[1], row6[2], row6[3]]"
      ],
      "metadata": {
        "id": "8WVK-Dz0n_JJ"
      },
      "execution_count": 77,
      "outputs": []
    },
    {
      "cell_type": "code",
      "source": [
        "#Year 2\n",
        "Y2names = df2.iloc[:,0].tolist()\n",
        "\n",
        "row1 = df2.iloc[0]\n",
        "row2 = df2.iloc[1]\n",
        "row3 = df2.iloc[2]\n",
        "row4 = df2.iloc[3]\n",
        "row5 = df2.iloc[4]\n",
        "row6 = df2.iloc[5]\n",
        "\n",
        "Y2vac1 = [row1[1], row1[2], row1[3], row1[4]]\n",
        "Y2vac2 = [row2[1], row2[2], row2[3], row2[4]]\n",
        "Y2vac3 = [row3[1], row3[2], row3[3], row3[4]]\n",
        "Y2vac4 = [row4[1], row4[2], row4[3], row4[4]]\n",
        "Y2vac5 = [row5[1], row5[2], row5[3], row5[4]]\n",
        "Y2vac6 = [row6[1], row6[2], row6[3], row6[4]]"
      ],
      "metadata": {
        "id": "KOgYVn17sU8U"
      },
      "execution_count": 78,
      "outputs": []
    },
    {
      "cell_type": "code",
      "source": [
        "#Year 3\n",
        "Y3names = df3.iloc[:,0].tolist()\n",
        "\n",
        "row1 = df3.iloc[0]\n",
        "row2 = df3.iloc[1]\n",
        "row3 = df3.iloc[2]\n",
        "row4 = df3.iloc[3]\n",
        "row5 = df3.iloc[4]\n",
        "row6 = df3.iloc[5]\n",
        "\n",
        "Y3vac1 = [row1[1], row1[2], row1[3], row1[4]]\n",
        "Y3vac2 = [row2[1], row2[2], row2[3], row2[4]]\n",
        "Y3vac3 = [row3[1], row3[2], row3[3], row3[4]]\n",
        "Y3vac4 = [row4[1], row4[2], row4[3], row4[4]]\n",
        "Y3vac5 = [row5[1], row5[2], row5[3], row5[4]]\n",
        "Y3vac6 = [row6[1], row6[2], row6[3], row6[4]]"
      ],
      "metadata": {
        "id": "-0CLzZNcsvD0"
      },
      "execution_count": 79,
      "outputs": []
    },
    {
      "cell_type": "code",
      "source": [
        "def output():\n",
        "  print(\"Y1names =\", Y1names,\";\")\n",
        "  print(\"Y1vac1 =\", Y1vac1,\";\")\n",
        "  print(\"Y1vac2 =\", Y1vac2,\";\")\n",
        "  print(\"Y1vac3 =\", Y1vac3,\";\")\n",
        "  print(\"Y1vac4 =\", Y1vac4,\";\")\n",
        "  print(\"Y1vac5 =\", Y1vac5,\";\")\n",
        "  print(\"Y1vac6 =\", Y1vac6,\";\")\n",
        "  print(\"Y2names =\", Y2names,\";\")\n",
        "  print(\"Y2vac1 =\", Y2vac1,\";\")\n",
        "  print(\"Y2vac2 =\", Y2vac2)\n",
        "  print(\"Y2vac3 =\", Y2vac3,\";\")\n",
        "  print(\"Y2vac4 =\", Y2vac4,\";\")\n",
        "  print(\"Y2vac5 =\", Y2vac5,\";\")\n",
        "  print(\"Y2vac6 =\", Y2vac6,\";\")\n",
        "  print(\"Y3names =\", Y3names,\";\")\n",
        "  print(\"Y3vac1 =\", Y3vac1,\";\")\n",
        "  print(\"Y3vac2 =\", Y3vac2,\";\")\n",
        "  print(\"Y3vac3 =\", Y3vac3,\";\")\n",
        "  print(\"Y3vac4 =\", Y3vac4,\";\")\n",
        "  print(\"Y3vac5 =\", Y3vac5,\";\")\n",
        "  print(\"Y3vac6 =\", Y3vac6,\";\")"
      ],
      "metadata": {
        "id": "QaBEDwy2oF7L"
      },
      "execution_count": 80,
      "outputs": []
    },
    {
      "cell_type": "markdown",
      "source": [
        "\n",
        "\n",
        "---\n",
        "\n",
        "# Input"
      ],
      "metadata": {
        "id": "OTqJI1OhuOfb"
      }
    },
    {
      "cell_type": "code",
      "source": [
        "output()"
      ],
      "metadata": {
        "colab": {
          "base_uri": "https://localhost:8080/"
        },
        "id": "9LI51CeKuKoY",
        "outputId": "6b95bc1a-adf2-4093-b7ba-145a838738d0"
      },
      "execution_count": 82,
      "outputs": [
        {
          "output_type": "stream",
          "name": "stdout",
          "text": [
            "Y1names = ['Joseph Caravella', 'Jordan Coffey', 'Marcus Davis', 'Jackson Weaver', 'J.J. Westmoreland', 'Hannah Willey'] ;\n",
            "Y1vac1 = [10, 2, 5] ;\n",
            "Y1vac2 = [10, 2, 5] ;\n",
            "Y1vac3 = [11, 1, 4] ;\n",
            "Y1vac4 = [9, 12, 4] ;\n",
            "Y1vac5 = [12, 2, 6] ;\n",
            "Y1vac6 = [10, 1, 4] ;\n",
            "Y2names = ['Cody Bushyhead', 'Prabh Khunkhun', 'Jay Napolitano', 'Andrew Oracz', 'Natasha Rezvani', 'Steven Vo'] ;\n",
            "Y2vac1 = [9, 12, 3, 6.0] ;\n",
            "Y2vac2 = [9, 12, 4, 6.0]\n",
            "Y2vac3 = [11, 3, 5, 6.0] ;\n",
            "Y2vac4 = [10, 2, 4, 6.0] ;\n",
            "Y2vac5 = [8, 12, 2, 4.0] ;\n",
            "Y2vac6 = [12, 1, 3, 5.0] ;\n",
            "Y3names = ['Bryce Chapman', 'Charlie Dean', 'Read Founds', 'Marshall Frieden', 'Shonte Joseph', 'Chris Van Hise'] ;\n",
            "Y3vac1 = [11, 3, 5, 6.0] ;\n",
            "Y3vac2 = [8, 10, 1, 2.0] ;\n",
            "Y3vac3 = [11, 12, 2, 4.0] ;\n",
            "Y3vac4 = [8, 12, 2, 3.0] ;\n",
            "Y3vac5 = [7, 12, 2, 4.0] ;\n",
            "Y3vac6 = [8, 11, 2, 5.0] ;\n"
          ]
        }
      ]
    }
  ]
}