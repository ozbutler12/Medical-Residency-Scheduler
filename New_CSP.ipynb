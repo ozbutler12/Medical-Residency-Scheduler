{
  "nbformat": 4,
  "nbformat_minor": 0,
  "metadata": {
    "colab": {
      "provenance": [],
      "collapsed_sections": [
        "S72P2HgLiK0q"
      ]
    },
    "kernelspec": {
      "name": "python3",
      "display_name": "Python 3"
    },
    "language_info": {
      "name": "python"
    }
  },
  "cells": [
    {
      "cell_type": "markdown",
      "source": [
        "# Initialize the dataframes"
      ],
      "metadata": {
        "id": "IInm26VxiCzr"
      }
    },
    {
      "cell_type": "code",
      "execution_count": 1,
      "metadata": {
        "colab": {
          "base_uri": "https://localhost:8080/"
        },
        "id": "mpzxOsALh0QQ",
        "outputId": "e46d11b3-94f4-4991-8959-a98fb92951b5"
      },
      "outputs": [
        {
          "output_type": "stream",
          "name": "stdout",
          "text": [
            "Mounted at /content/drive\n",
            "/content/drive/My Drive/Colab Notebooks\n"
          ]
        }
      ],
      "source": [
        "from google.colab import drive\n",
        "from google.colab import files\n",
        "drive.mount('/content/drive')\n",
        "%cd /content/drive/My Drive/Colab Notebooks\n",
        "\n",
        "import pandas as pd"
      ]
    },
    {
      "cell_type": "markdown",
      "source": [
        "# Constraint Solution Problem"
      ],
      "metadata": {
        "id": "S72P2HgLiK0q"
      }
    },
    {
      "cell_type": "code",
      "source": [
        "!pip install python-constraint\n",
        "from constraint import *"
      ],
      "metadata": {
        "colab": {
          "base_uri": "https://localhost:8080/"
        },
        "id": "rxrndd0AoS3S",
        "outputId": "be3236a0-fb9b-42f4-c960-d43b9ed71f1c"
      },
      "execution_count": 2,
      "outputs": [
        {
          "output_type": "stream",
          "name": "stdout",
          "text": [
            "Looking in indexes: https://pypi.org/simple, https://us-python.pkg.dev/colab-wheels/public/simple/\n",
            "Collecting python-constraint\n",
            "  Downloading python-constraint-1.4.0.tar.bz2 (18 kB)\n",
            "  Preparing metadata (setup.py) ... \u001b[?25l\u001b[?25hdone\n",
            "Building wheels for collected packages: python-constraint\n",
            "  Building wheel for python-constraint (setup.py) ... \u001b[?25l\u001b[?25hdone\n",
            "  Created wheel for python-constraint: filename=python_constraint-1.4.0-py2.py3-none-any.whl size=24079 sha256=40564121c657b7a6df11ba769135543a77361c8f983fa1a13f6e8f4c5c0939ac\n",
            "  Stored in directory: /root/.cache/pip/wheels/86/ba/5c/4e9115777de42c6a2e1ca77ef7c9d0d479254c5080341b55c5\n",
            "Successfully built python-constraint\n",
            "Installing collected packages: python-constraint\n",
            "Successfully installed python-constraint-1.4.0\n"
          ]
        }
      ]
    },
    {
      "cell_type": "markdown",
      "source": [
        "# Year 1 Constraints"
      ],
      "metadata": {
        "id": "n07rzIjBmlKY"
      }
    },
    {
      "cell_type": "markdown",
      "source": [
        "Constraints:\n",
        "*   Inpt cannot occur two months in a row for a student\n",
        "*   Each month two students must have Inpt\n",
        "* Inpt cannot be in a vacation month\n",
        "* Peds cannot be in a vacation month\n",
        "* Each student must take OBGYN twice\n",
        "* Each student must take Peds twice\n",
        "* Each student must take NICU, Emergency Med, Psych, and Surg one time\n",
        "\n",
        "Classes: Inpt, OBGYN, Peds, NICU, Emergency Med, Psych, Surg\n"
      ],
      "metadata": {
        "id": "LLyA9iGLnlXW"
      }
    },
    {
      "cell_type": "code",
      "source": [
        "df_Schedule = pd.DataFrame(columns=['Name','July','August','September','October','November','December','January','February','March','April','May','June'])\n",
        "problem = Problem()\n",
        "\n",
        "people = ['Joseph Caravella', 'Jordan Coffey', 'Marcus Davis', 'Jackson Weaver', 'J.J. Westmoreland', 'Hannah \\\"Day\\\" Willey']\n",
        "\n",
        "months = ['July','August','September','October','November','December','January','February','March','April','May','June']\n",
        "\n",
        "rotations = ['Inpt','OBGYN','Peds','NICU','Emergency Med','Psych','Surg']\n",
        "\n",
        "# Define the students and their vacation months\n",
        "vacation_months = {'Cody Bushyhead': ['September', 'December', 'March','June'],\n",
        "                   'Prabh Khunkhun': ['September', 'December', 'April','June'],\n",
        "                   'Jay Napolitano': ['November', 'March', 'May','June'],\n",
        "                   'Andrew Oracz': ['October', 'February', 'April','May','June'],\n",
        "                   'Natasha Rezvani': ['August', 'December', 'February','April'],\n",
        "                   'Steven Vo': ['December', 'January', 'March','May']}\n",
        "for person in people:\n",
        "    problem.addVariable(person, months)\n",
        "\n",
        "\n",
        "def different_months(person1, person2):\n",
        "    return person1 != person2\n",
        "for person1 in people:\n",
        "    for person2 in people:\n",
        "        if person1 != person2:\n",
        "            problem.addConstraint(different_months, (person1, person2))\n",
        "\n",
        "\n",
        "solution = problem.getSolution()\n",
        "\n",
        "for person, month in solution.items():\n",
        "    df_Schedule.loc[len(df_Schedule)] = [person] + [\"\" if m != month else \"NICU\" for m in months]\n",
        "df_Schedule"
      ],
      "metadata": {
        "id": "ruj3i868ql73",
        "colab": {
          "base_uri": "https://localhost:8080/",
          "height": 238
        },
        "outputId": "29dff191-058a-41f6-d59f-b57830d00bd7"
      },
      "execution_count": 8,
      "outputs": [
        {
          "output_type": "execute_result",
          "data": {
            "text/plain": [
              "                  Name July August September October November December  \\\n",
              "0  Hannah \"Day\" Willey                                                   \n",
              "1    J.J. Westmoreland                                                   \n",
              "2       Jackson Weaver                                                   \n",
              "3        Jordan Coffey                                                   \n",
              "4     Joseph Caravella                                                   \n",
              "5         Marcus Davis                                                   \n",
              "\n",
              "    January  February     March     April       May      June  \n",
              "0                                                    Rotation  \n",
              "1                                          Rotation            \n",
              "2                                Rotation                      \n",
              "3                      Rotation                                \n",
              "4            Rotation                                          \n",
              "5  Rotation                                                    "
            ],
            "text/html": [
              "\n",
              "  <div id=\"df-f75901d6-eb2c-4c0b-8032-c16a1237d4ef\">\n",
              "    <div class=\"colab-df-container\">\n",
              "      <div>\n",
              "<style scoped>\n",
              "    .dataframe tbody tr th:only-of-type {\n",
              "        vertical-align: middle;\n",
              "    }\n",
              "\n",
              "    .dataframe tbody tr th {\n",
              "        vertical-align: top;\n",
              "    }\n",
              "\n",
              "    .dataframe thead th {\n",
              "        text-align: right;\n",
              "    }\n",
              "</style>\n",
              "<table border=\"1\" class=\"dataframe\">\n",
              "  <thead>\n",
              "    <tr style=\"text-align: right;\">\n",
              "      <th></th>\n",
              "      <th>Name</th>\n",
              "      <th>July</th>\n",
              "      <th>August</th>\n",
              "      <th>September</th>\n",
              "      <th>October</th>\n",
              "      <th>November</th>\n",
              "      <th>December</th>\n",
              "      <th>January</th>\n",
              "      <th>February</th>\n",
              "      <th>March</th>\n",
              "      <th>April</th>\n",
              "      <th>May</th>\n",
              "      <th>June</th>\n",
              "    </tr>\n",
              "  </thead>\n",
              "  <tbody>\n",
              "    <tr>\n",
              "      <th>0</th>\n",
              "      <td>Hannah \"Day\" Willey</td>\n",
              "      <td></td>\n",
              "      <td></td>\n",
              "      <td></td>\n",
              "      <td></td>\n",
              "      <td></td>\n",
              "      <td></td>\n",
              "      <td></td>\n",
              "      <td></td>\n",
              "      <td></td>\n",
              "      <td></td>\n",
              "      <td></td>\n",
              "      <td>Rotation</td>\n",
              "    </tr>\n",
              "    <tr>\n",
              "      <th>1</th>\n",
              "      <td>J.J. Westmoreland</td>\n",
              "      <td></td>\n",
              "      <td></td>\n",
              "      <td></td>\n",
              "      <td></td>\n",
              "      <td></td>\n",
              "      <td></td>\n",
              "      <td></td>\n",
              "      <td></td>\n",
              "      <td></td>\n",
              "      <td></td>\n",
              "      <td>Rotation</td>\n",
              "      <td></td>\n",
              "    </tr>\n",
              "    <tr>\n",
              "      <th>2</th>\n",
              "      <td>Jackson Weaver</td>\n",
              "      <td></td>\n",
              "      <td></td>\n",
              "      <td></td>\n",
              "      <td></td>\n",
              "      <td></td>\n",
              "      <td></td>\n",
              "      <td></td>\n",
              "      <td></td>\n",
              "      <td></td>\n",
              "      <td>Rotation</td>\n",
              "      <td></td>\n",
              "      <td></td>\n",
              "    </tr>\n",
              "    <tr>\n",
              "      <th>3</th>\n",
              "      <td>Jordan Coffey</td>\n",
              "      <td></td>\n",
              "      <td></td>\n",
              "      <td></td>\n",
              "      <td></td>\n",
              "      <td></td>\n",
              "      <td></td>\n",
              "      <td></td>\n",
              "      <td></td>\n",
              "      <td>Rotation</td>\n",
              "      <td></td>\n",
              "      <td></td>\n",
              "      <td></td>\n",
              "    </tr>\n",
              "    <tr>\n",
              "      <th>4</th>\n",
              "      <td>Joseph Caravella</td>\n",
              "      <td></td>\n",
              "      <td></td>\n",
              "      <td></td>\n",
              "      <td></td>\n",
              "      <td></td>\n",
              "      <td></td>\n",
              "      <td></td>\n",
              "      <td>Rotation</td>\n",
              "      <td></td>\n",
              "      <td></td>\n",
              "      <td></td>\n",
              "      <td></td>\n",
              "    </tr>\n",
              "    <tr>\n",
              "      <th>5</th>\n",
              "      <td>Marcus Davis</td>\n",
              "      <td></td>\n",
              "      <td></td>\n",
              "      <td></td>\n",
              "      <td></td>\n",
              "      <td></td>\n",
              "      <td></td>\n",
              "      <td>Rotation</td>\n",
              "      <td></td>\n",
              "      <td></td>\n",
              "      <td></td>\n",
              "      <td></td>\n",
              "      <td></td>\n",
              "    </tr>\n",
              "  </tbody>\n",
              "</table>\n",
              "</div>\n",
              "      <button class=\"colab-df-convert\" onclick=\"convertToInteractive('df-f75901d6-eb2c-4c0b-8032-c16a1237d4ef')\"\n",
              "              title=\"Convert this dataframe to an interactive table.\"\n",
              "              style=\"display:none;\">\n",
              "        \n",
              "  <svg xmlns=\"http://www.w3.org/2000/svg\" height=\"24px\"viewBox=\"0 0 24 24\"\n",
              "       width=\"24px\">\n",
              "    <path d=\"M0 0h24v24H0V0z\" fill=\"none\"/>\n",
              "    <path d=\"M18.56 5.44l.94 2.06.94-2.06 2.06-.94-2.06-.94-.94-2.06-.94 2.06-2.06.94zm-11 1L8.5 8.5l.94-2.06 2.06-.94-2.06-.94L8.5 2.5l-.94 2.06-2.06.94zm10 10l.94 2.06.94-2.06 2.06-.94-2.06-.94-.94-2.06-.94 2.06-2.06.94z\"/><path d=\"M17.41 7.96l-1.37-1.37c-.4-.4-.92-.59-1.43-.59-.52 0-1.04.2-1.43.59L10.3 9.45l-7.72 7.72c-.78.78-.78 2.05 0 2.83L4 21.41c.39.39.9.59 1.41.59.51 0 1.02-.2 1.41-.59l7.78-7.78 2.81-2.81c.8-.78.8-2.07 0-2.86zM5.41 20L4 18.59l7.72-7.72 1.47 1.35L5.41 20z\"/>\n",
              "  </svg>\n",
              "      </button>\n",
              "      \n",
              "  <style>\n",
              "    .colab-df-container {\n",
              "      display:flex;\n",
              "      flex-wrap:wrap;\n",
              "      gap: 12px;\n",
              "    }\n",
              "\n",
              "    .colab-df-convert {\n",
              "      background-color: #E8F0FE;\n",
              "      border: none;\n",
              "      border-radius: 50%;\n",
              "      cursor: pointer;\n",
              "      display: none;\n",
              "      fill: #1967D2;\n",
              "      height: 32px;\n",
              "      padding: 0 0 0 0;\n",
              "      width: 32px;\n",
              "    }\n",
              "\n",
              "    .colab-df-convert:hover {\n",
              "      background-color: #E2EBFA;\n",
              "      box-shadow: 0px 1px 2px rgba(60, 64, 67, 0.3), 0px 1px 3px 1px rgba(60, 64, 67, 0.15);\n",
              "      fill: #174EA6;\n",
              "    }\n",
              "\n",
              "    [theme=dark] .colab-df-convert {\n",
              "      background-color: #3B4455;\n",
              "      fill: #D2E3FC;\n",
              "    }\n",
              "\n",
              "    [theme=dark] .colab-df-convert:hover {\n",
              "      background-color: #434B5C;\n",
              "      box-shadow: 0px 1px 3px 1px rgba(0, 0, 0, 0.15);\n",
              "      filter: drop-shadow(0px 1px 2px rgba(0, 0, 0, 0.3));\n",
              "      fill: #FFFFFF;\n",
              "    }\n",
              "  </style>\n",
              "\n",
              "      <script>\n",
              "        const buttonEl =\n",
              "          document.querySelector('#df-f75901d6-eb2c-4c0b-8032-c16a1237d4ef button.colab-df-convert');\n",
              "        buttonEl.style.display =\n",
              "          google.colab.kernel.accessAllowed ? 'block' : 'none';\n",
              "\n",
              "        async function convertToInteractive(key) {\n",
              "          const element = document.querySelector('#df-f75901d6-eb2c-4c0b-8032-c16a1237d4ef');\n",
              "          const dataTable =\n",
              "            await google.colab.kernel.invokeFunction('convertToInteractive',\n",
              "                                                     [key], {});\n",
              "          if (!dataTable) return;\n",
              "\n",
              "          const docLinkHtml = 'Like what you see? Visit the ' +\n",
              "            '<a target=\"_blank\" href=https://colab.research.google.com/notebooks/data_table.ipynb>data table notebook</a>'\n",
              "            + ' to learn more about interactive tables.';\n",
              "          element.innerHTML = '';\n",
              "          dataTable['output_type'] = 'display_data';\n",
              "          await google.colab.output.renderOutput(dataTable, element);\n",
              "          const docLink = document.createElement('div');\n",
              "          docLink.innerHTML = docLinkHtml;\n",
              "          element.appendChild(docLink);\n",
              "        }\n",
              "      </script>\n",
              "    </div>\n",
              "  </div>\n",
              "  "
            ]
          },
          "metadata": {},
          "execution_count": 8
        }
      ]
    },
    {
      "cell_type": "markdown",
      "source": [
        "# Year 2 Constraints"
      ],
      "metadata": {
        "id": "jmmwx6DdmpGd"
      }
    },
    {
      "cell_type": "markdown",
      "source": [
        "Constraints:\n",
        "* Each student needs Inpt 4 times\n",
        "* Inpt needs two people in it each month  \n",
        "* Inpt cannot be in the same month as a vacation\n",
        "* EM UMC cannot be in the same month as a vacation\n",
        "* Everything else is needed only 1 time (Gyn,Cards,Crit Care,Amb Peds, EM UMC, Practice Mngmt, Peds EM, Ortho)\n",
        "* All classes besides INPT will have 1 student per month max\n",
        "\n",
        "Classes: Gyn, Cards, Crit Care, Amb Peds, EM UMC, Practice Mngmt, Peds EM, Ortho, Inpt"
      ],
      "metadata": {
        "id": "FcG4eZLsn7A5"
      }
    },
    {
      "cell_type": "code",
      "source": [
        "df_Schedule2 = pd.DataFrame(columns=['Name','July','August','September','October','November','December','January','February','March','April','May','June'])\n",
        "\n",
        "# Define the students and their vacation months\n",
        "vacation_months = {'Cody Bushyhead': ['September', 'December', 'March','June'],\n",
        "                   'Prabh Khunkhun': ['September', 'December', 'April','June'],\n",
        "                   'Jay Napolitano': ['November', 'March', 'May','June'],\n",
        "                   'Andrew Oracz': ['October', 'February', 'April','May','June'],\n",
        "                   'Natasha Rezvani': ['August', 'December', 'February','April'],\n",
        "                   'Steven Vo': ['December', 'January', 'March','May']}\n",
        "rotations = [ 'Gyn', 'Cards', 'Crit Care', 'Amb Peds', 'EM UMC', 'Practice Mngmt', 'Peds EM', 'Ortho', 'Inpt']"
      ],
      "metadata": {
        "id": "DHEE37Oomkky"
      },
      "execution_count": 9,
      "outputs": []
    },
    {
      "cell_type": "markdown",
      "source": [
        "# Year 3 Constraints"
      ],
      "metadata": {
        "id": "SAKOWEu2mrvB"
      }
    },
    {
      "cell_type": "markdown",
      "source": [
        "Constraints:\n",
        "* Each student needs Inpt 2 times\n",
        "* Each student needs Elective 4 times\n",
        "* Elective needs two people in it each month  \n",
        "* Inpt cannot be in the same month as a vacation\n",
        "* ENT/Opthal and Uro/Neuro cannot be in a vacation month\n",
        "* Everything else is needed only 1 time (ENT/Ophthal, MSK, Amb Peds, Uro/Neuro, Comm Med, Derm)\n",
        "* All classes besides Elective will have 1 student per month max\n",
        "\n",
        "Classes: Inpt, Elective, ENT/Ophthal, MSK, Amb Peds, Uro/Neuro, Comm Med, Derm\n"
      ],
      "metadata": {
        "id": "fBCozssFq6dO"
      }
    },
    {
      "cell_type": "code",
      "source": [
        "df_Schedule3 = pd.DataFrame(columns=['Name','July','August','September','October','November','December','January','February','March','April','May','June'])\n",
        "# Define the students and their vacation months\n",
        "vacation_months = {'Bryce Chapman': ['November', 'March', 'May','June'],\n",
        "                   'Charlie Dean': ['August', 'October', 'January','February'],\n",
        "                   'Read Founds': ['November', 'December', 'February','April'],\n",
        "                   'Marshall Frieden': ['August', 'December', 'February','March'],\n",
        "                   'Shonte Joseph': ['July', 'December', 'February','April'],\n",
        "                   'Chris Van Hise': ['August', 'November', 'February','May']}\n",
        "rotations = ['Inpt', 'Elective', 'ENT/Ophthal', 'MSK', 'Amb Peds', 'Uro/Neuro', 'Comm Med', 'Derm']"
      ],
      "metadata": {
        "id": "C3GCGSb6mj-_"
      },
      "execution_count": null,
      "outputs": []
    },
    {
      "cell_type": "markdown",
      "source": [
        "#Accross Year Rules"
      ],
      "metadata": {
        "id": "ZhDG9sf9ibdH"
      }
    },
    {
      "cell_type": "markdown",
      "source": [
        "\n",
        "\n",
        "*   OBGYN cannot have a second and third year in it at once\n"
      ],
      "metadata": {
        "id": "8A5FwD4cigKP"
      }
    }
  ]
}